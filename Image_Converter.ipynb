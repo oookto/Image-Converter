{
  "nbformat": 4,
  "nbformat_minor": 0,
  "metadata": {
    "colab": {
      "provenance": [],
      "authorship_tag": "ABX9TyP9MHx/Y7mi7/gBC7QzTgz7",
      "include_colab_link": true
    },
    "kernelspec": {
      "name": "python3",
      "display_name": "Python 3"
    },
    "language_info": {
      "name": "python"
    }
  },
  "cells": [
    {
      "cell_type": "markdown",
      "metadata": {
        "id": "view-in-github",
        "colab_type": "text"
      },
      "source": [
        "<a href=\"https://colab.research.google.com/github/oookto/Image-Converter/blob/main/Image_Converter.ipynb\" target=\"_parent\"><img src=\"https://colab.research.google.com/assets/colab-badge.svg\" alt=\"Open In Colab\"/></a>"
      ]
    },
    {
      "cell_type": "code",
      "execution_count": null,
      "metadata": {
        "id": "ToRcMouQU4-R"
      },
      "outputs": [],
      "source": [
        "!pip install pillow\n",
        "from PIL import Image\n",
        "import os"
      ]
    },
    {
      "cell_type": "code",
      "source": [
        "# Membuka gambar dalam format JPEG\n",
        "input = \"/content/input/boruto.jpg\" # @param {type:\"string\"}\n",
        "nama_file = \"kolm\" # @param {type:\"string\"}\n",
        "output = f\"/content/output/{nama_file}\"\n",
        "\n",
        "convert = Image.open(input)\n",
        "\n",
        "# Mengonversi gambar ke format PNG\n",
        "convert.save(output, format=\"ico\")\n",
        "\n",
        "# Menyimpan gambar yang sudah diubah formatnya\n",
        "result = Image.open(output)\n",
        "result.show()"
      ],
      "metadata": {
        "id": "xclU_aDvdf98"
      },
      "execution_count": null,
      "outputs": []
    }
  ]
}